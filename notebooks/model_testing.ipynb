{
 "cells": [
  {
   "cell_type": "markdown",
   "id": "f0740dbb",
   "metadata": {},
   "source": [
    "# Model Training and Testing\n",
    "\n",
    "This notebook will be used for my initial testing of the siamese network as well as the YOLOv8 model"
   ]
  },
  {
   "cell_type": "code",
   "execution_count": null,
   "id": "a00a7906",
   "metadata": {},
   "outputs": [],
   "source": [
    "import kagglehub\n",
    "import kaggle"
   ]
  },
  {
   "cell_type": "code",
   "execution_count": 8,
   "id": "af5eddd6",
   "metadata": {},
   "outputs": [],
   "source": [
    "kaggle.api.authenticate()"
   ]
  },
  {
   "cell_type": "code",
   "execution_count": 13,
   "id": "96305272",
   "metadata": {},
   "outputs": [
    {
     "name": "stdout",
     "output_type": "stream",
     "text": [
      "Dataset URL: https://www.kaggle.com/datasets/quadeer15sh/lfw-facial-recognition\n"
     ]
    }
   ],
   "source": [
    "# Download LFW dataset for facial detection \n",
    "kaggle.api.dataset_download_files(\"quadeer15sh/lfw-facial-recognition\",'.',unzip=True)"
   ]
  },
  {
   "cell_type": "code",
   "execution_count": 12,
   "id": "2f007b5e",
   "metadata": {},
   "outputs": [
    {
     "name": "stdout",
     "output_type": "stream",
     "text": [
      "Dataset URL: https://www.kaggle.com/datasets/aiacademymaterials/wider-face-detection\n"
     ]
    }
   ],
   "source": [
    "# download the wider faces to train facial detection\n",
    "kaggle.api.dataset_download_files(\"aiacademymaterials/wider-face-detection\",'.',unzip=True)"
   ]
  },
  {
   "cell_type": "code",
   "execution_count": null,
   "id": "61ff6d20",
   "metadata": {},
   "outputs": [],
   "source": []
  }
 ],
 "metadata": {
  "kernelspec": {
   "display_name": "base",
   "language": "python",
   "name": "python3"
  },
  "language_info": {
   "codemirror_mode": {
    "name": "ipython",
    "version": 3
   },
   "file_extension": ".py",
   "mimetype": "text/x-python",
   "name": "python",
   "nbconvert_exporter": "python",
   "pygments_lexer": "ipython3",
   "version": "3.12.4"
  }
 },
 "nbformat": 4,
 "nbformat_minor": 5
}
