{
 "cells": [
  {
   "cell_type": "markdown",
   "id": "f0740dbb",
   "metadata": {},
   "source": [
    "# Model Training and Testing\n",
    "This notebook will test out and tweak different components of a siamese network to get the best possible model. This file will only focus on facial recognition.\n",
    "\n"
   ]
  }
 ],
 "metadata": {
  "language_info": {
   "name": "python"
  }
 },
 "nbformat": 4,
 "nbformat_minor": 5
}
